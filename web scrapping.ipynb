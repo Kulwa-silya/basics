{
 "cells": [
  {
   "cell_type": "code",
   "execution_count": 66,
   "id": "c76d1546-020f-4204-ae87-0ada4a3dfc8b",
   "metadata": {
    "scrolled": true
   },
   "outputs": [],
   "source": [
    "# from requests import get\n",
    "\n",
    "# url = get(\"sample.html\")\n",
    "\n",
    "# request = url.text"
   ]
  },
  {
   "cell_type": "code",
   "execution_count": 67,
   "id": "08a6a95c-5bdc-41e1-951e-711ede06944f",
   "metadata": {},
   "outputs": [],
   "source": [
    "file = open(r'./sample.html', 'r')"
   ]
  },
  {
   "cell_type": "code",
   "execution_count": 68,
   "id": "d177bf6c-a197-44c7-af7f-ef8f9eb93cf4",
   "metadata": {},
   "outputs": [
    {
     "data": {
      "text/plain": [
       "<_io.TextIOWrapper name='./sample.html' mode='r' encoding='UTF-8'>"
      ]
     },
     "execution_count": 68,
     "metadata": {},
     "output_type": "execute_result"
    }
   ],
   "source": [
    "file"
   ]
  },
  {
   "cell_type": "code",
   "execution_count": 69,
   "id": "82b77175-e09a-476d-ae4a-b1f224f49654",
   "metadata": {},
   "outputs": [],
   "source": [
    "from bs4 import BeautifulSoup as soup\n",
    "\n",
    "soup_data = soup(file, 'html.parser' )"
   ]
  },
  {
   "cell_type": "code",
   "execution_count": 84,
   "id": "2a8fe567-c81f-4469-9ad6-cddc26553c94",
   "metadata": {},
   "outputs": [],
   "source": [
    "# soup_data"
   ]
  },
  {
   "cell_type": "code",
   "execution_count": 81,
   "id": "30397184-c0f6-4b59-b075-8bcf8ccc6d00",
   "metadata": {},
   "outputs": [],
   "source": [
    "divs = soup_data.find('div', {\"class\":\"cars\"})"
   ]
  },
  {
   "cell_type": "code",
   "execution_count": 86,
   "id": "737dd375-9501-49a2-bd6c-4e90ee49790a",
   "metadata": {},
   "outputs": [
    {
     "data": {
      "text/plain": [
       "<div class=\"cars\">\n",
       "<h2>Cars</h2>\n",
       "<ol>\n",
       "<li>Audi</li>\n",
       "<li>BMW</li>\n",
       "<li>Chevrolet</li>\n",
       "<li>Dodge</li>\n",
       "<li>Ford</li>\n",
       "</ol>\n",
       "<ul>\n",
       "<li>Honda</li>\n",
       "<li>Hyundai</li>\n",
       "<li>Jeep</li>\n",
       "<li>Kia</li>\n",
       "<li>Lexus</li>\n",
       "</ul>\n",
       "</div>"
      ]
     },
     "execution_count": 86,
     "metadata": {},
     "output_type": "execute_result"
    }
   ],
   "source": [
    "divs"
   ]
  },
  {
   "cell_type": "code",
   "execution_count": 45,
   "id": "e0ef62b0-8c5a-42e4-a8f0-6d0524dd88ac",
   "metadata": {},
   "outputs": [],
   "source": [
    "author_name = []"
   ]
  },
  {
   "cell_type": "code",
   "execution_count": 88,
   "id": "3ca50c20-5842-47d3-b4fc-4c97806efb42",
   "metadata": {},
   "outputs": [],
   "source": [
    "ordered_cars = divs.find(\"ol\")"
   ]
  },
  {
   "cell_type": "code",
   "execution_count": 92,
   "id": "e9e4f716-00d7-4a2c-9956-448f6e9b7237",
   "metadata": {},
   "outputs": [],
   "source": [
    "ordered_cars_items = ordered_cars.find_all(\"li\")"
   ]
  },
  {
   "cell_type": "code",
   "execution_count": 93,
   "id": "2f338720-7837-45a2-be31-b76fc6364a1f",
   "metadata": {},
   "outputs": [
    {
     "data": {
      "text/plain": [
       "[<li>Audi</li>,\n",
       " <li>BMW</li>,\n",
       " <li>Chevrolet</li>,\n",
       " <li>Dodge</li>,\n",
       " <li>Ford</li>]"
      ]
     },
     "execution_count": 93,
     "metadata": {},
     "output_type": "execute_result"
    }
   ],
   "source": [
    "ordered_cars_items"
   ]
  },
  {
   "cell_type": "code",
   "execution_count": 95,
   "id": "1bde80a4-0b28-454c-91d8-bdca42bad784",
   "metadata": {},
   "outputs": [
    {
     "name": "stdout",
     "output_type": "stream",
     "text": [
      "Audi\n",
      "BMW\n",
      "Chevrolet\n",
      "Dodge\n",
      "Ford\n"
     ]
    }
   ],
   "source": [
    "for car in ordered_cars_items:\n",
    "    print(car.text)"
   ]
  },
  {
   "cell_type": "code",
   "execution_count": null,
   "id": "3fbdc39b-de4a-408f-b3a1-93bb1ab12de7",
   "metadata": {},
   "outputs": [],
   "source": []
  }
 ],
 "metadata": {
  "kernelspec": {
   "display_name": "Python 3 (ipykernel)",
   "language": "python",
   "name": "python3"
  },
  "language_info": {
   "codemirror_mode": {
    "name": "ipython",
    "version": 3
   },
   "file_extension": ".py",
   "mimetype": "text/x-python",
   "name": "python",
   "nbconvert_exporter": "python",
   "pygments_lexer": "ipython3",
   "version": "3.10.12"
  }
 },
 "nbformat": 4,
 "nbformat_minor": 5
}
