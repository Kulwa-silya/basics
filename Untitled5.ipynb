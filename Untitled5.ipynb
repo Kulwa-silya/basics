{
 "cells": [
  {
   "cell_type": "code",
   "execution_count": 1,
   "id": "2c10f6fe",
   "metadata": {},
   "outputs": [],
   "source": [
    "path = \"https://www.voanews.com/s?k=covid-19%20vaccination&tab=all&pi=1&r=any&pp=10\""
   ]
  },
  {
   "cell_type": "code",
   "execution_count": 3,
   "id": "ffb17b99",
   "metadata": {},
   "outputs": [],
   "source": [
    "from requests import get\n",
    "from bs4 import BeautifulSoup as soup\n",
    "\n",
    "\n",
    "url = get(path)\n",
    "\n",
    "request = url.text"
   ]
  },
  {
   "cell_type": "code",
   "execution_count": 4,
   "id": "ed13e756",
   "metadata": {},
   "outputs": [],
   "source": [
    "soup_data = soup(request, 'html.parser' )"
   ]
  },
  {
   "cell_type": "code",
   "execution_count": 6,
   "id": "b85f842f",
   "metadata": {},
   "outputs": [],
   "source": [
    "news = soup_data.find(\"h4\", {\"media-block__title media-block__title--size-3\"})\n"
   ]
  },
  {
   "cell_type": "code",
   "execution_count": 7,
   "id": "b23d0bfe",
   "metadata": {},
   "outputs": [],
   "source": [
    "titles = []"
   ]
  },
  {
   "cell_type": "code",
   "execution_count": 8,
   "id": "e8e982c3",
   "metadata": {},
   "outputs": [],
   "source": [
    "li_elements = news.find_all(\"li\")"
   ]
  },
  {
   "cell_type": "code",
   "execution_count": 9,
   "id": "8f9619c4",
   "metadata": {},
   "outputs": [
    {
     "name": "stdout",
     "output_type": "stream",
     "text": [
      "li\n"
     ]
    }
   ],
   "source": [
    "print(\"li\")"
   ]
  },
  {
   "cell_type": "code",
   "execution_count": 11,
   "id": "c47afeda",
   "metadata": {},
   "outputs": [],
   "source": [
    "for lii in li_elements:\n",
    "    title = lii.get_text(title)\n",
    "    titles.append(title)\n"
   ]
  },
  {
   "cell_type": "code",
   "execution_count": 12,
   "id": "853e8a80",
   "metadata": {},
   "outputs": [],
   "source": [
    "for title in titles:\n",
    "    print(title)"
   ]
  },
  {
   "cell_type": "code",
   "execution_count": null,
   "id": "ba4f89a7",
   "metadata": {},
   "outputs": [],
   "source": []
  },
  {
   "cell_type": "code",
   "execution_count": null,
   "id": "9ee1c3d8-e393-4199-a473-ef4b16bbf76e",
   "metadata": {},
   "outputs": [],
   "source": []
  },
  {
   "cell_type": "code",
   "execution_count": null,
   "id": "2d7da529-f023-4dda-9c34-81040f0e149e",
   "metadata": {},
   "outputs": [],
   "source": []
  },
  {
   "cell_type": "code",
   "execution_count": 13,
   "id": "97051627-c1bb-49d0-85a4-ccc275996bdf",
   "metadata": {},
   "outputs": [],
   "source": [
    "path = \"https://startv.co.tz/startvweb/index.php/kimataifa?start=45\""
   ]
  },
  {
   "cell_type": "code",
   "execution_count": 14,
   "id": "3a9a8d55-84c0-450d-8259-308d37903d4a",
   "metadata": {},
   "outputs": [],
   "source": [
    "from requests import get\n",
    "from bs4 import BeautifulSoup as soup\n",
    "\n",
    "\n",
    "url = get(path)\n",
    "\n",
    "request = url.text"
   ]
  },
  {
   "cell_type": "code",
   "execution_count": 15,
   "id": "7de696b1-93a6-4211-9131-733793d1a514",
   "metadata": {},
   "outputs": [],
   "source": [
    "soup_data = soup(request, 'html.parser' )"
   ]
  },
  {
   "cell_type": "code",
   "execution_count": 22,
   "id": "19af630f-c0cc-49ef-9e4f-ca1374f0c2c3",
   "metadata": {},
   "outputs": [],
   "source": [
    "header_div = soup_data.find_all(\"div\", {\"class\":\"page-header\"})"
   ]
  },
  {
   "cell_type": "code",
   "execution_count": 23,
   "id": "7791f414-d39f-4989-87d6-79ee4063c83a",
   "metadata": {},
   "outputs": [
    {
     "data": {
      "text/plain": [
       "[<div class=\"page-header\">\n",
       " <h2 itemprop=\"name\">\n",
       " \t\t\t\t\t\t\t\t\tUKRAINE YAJIANDAA KWA VITA YA KEMIKALI.\t\t\t\t\t\t\t</h2>\n",
       " </div>,\n",
       " <div class=\"page-header\">\n",
       " <h2 itemprop=\"name\">\n",
       " \t\t\t\t\t\t\t\t\t“PUTIN HAFAI KUBAKI MADARAKANI”-Rais Joe Biden.\t\t\t\t\t\t\t</h2>\n",
       " </div>,\n",
       " <div class=\"page-header\">\n",
       " <h2 itemprop=\"name\">\n",
       " \t\t\t\t\t\t\t\t\tMWANDISHI WA URUSI AUAWA KATIKA SHAMBULIO.\t\t\t\t\t\t\t</h2>\n",
       " </div>,\n",
       " <div class=\"page-header\">\n",
       " <h2 itemprop=\"name\">\n",
       " \t\t\t\t\t\t\t\t\tZELENSKY AITISHA MAANDAMANO DUNIANI KOTE KUPINGA UVAMIZI WA URUSI.\t\t\t\t\t\t\t</h2>\n",
       " </div>,\n",
       " <div class=\"page-header\">\n",
       " <h2 itemprop=\"name\">\n",
       " \t\t\t\t\t\t\t\t\tMSHAURI WA RAIS PUTIN AJIUZULU, AENDA UTURUKI.\t\t\t\t\t\t\t</h2>\n",
       " </div>]"
      ]
     },
     "execution_count": 23,
     "metadata": {},
     "output_type": "execute_result"
    }
   ],
   "source": [
    "header_div"
   ]
  },
  {
   "cell_type": "code",
   "execution_count": 24,
   "id": "7755f5a8-c38f-40f0-b443-b455a9397024",
   "metadata": {},
   "outputs": [
    {
     "ename": "AttributeError",
     "evalue": "ResultSet object has no attribute 'find_all'. You're probably treating a list of elements like a single element. Did you call find_all() when you meant to call find()?",
     "output_type": "error",
     "traceback": [
      "\u001b[0;31m---------------------------------------------------------------------------\u001b[0m",
      "\u001b[0;31mAttributeError\u001b[0m                            Traceback (most recent call last)",
      "Cell \u001b[0;32mIn[24], line 2\u001b[0m\n\u001b[1;32m      1\u001b[0m \u001b[38;5;28;01mif\u001b[39;00m header_div:\n\u001b[0;32m----> 2\u001b[0m     headings \u001b[38;5;241m=\u001b[39m \u001b[43mheader_div\u001b[49m\u001b[38;5;241;43m.\u001b[39;49m\u001b[43mfind_all\u001b[49m([\u001b[38;5;124m\"\u001b[39m\u001b[38;5;124mh2\u001b[39m\u001b[38;5;124m\"\u001b[39m])\n\u001b[1;32m      4\u001b[0m     \u001b[38;5;28;01mfor\u001b[39;00m heading \u001b[38;5;129;01min\u001b[39;00m headings:\n\u001b[1;32m      5\u001b[0m         heading_text \u001b[38;5;241m=\u001b[39m heading\u001b[38;5;241m.\u001b[39mget_text()\n",
      "File \u001b[0;32m~/vedah/lib/python3.10/site-packages/bs4/element.py:2253\u001b[0m, in \u001b[0;36mResultSet.__getattr__\u001b[0;34m(self, key)\u001b[0m\n\u001b[1;32m   2251\u001b[0m \u001b[38;5;28;01mdef\u001b[39;00m \u001b[38;5;21m__getattr__\u001b[39m(\u001b[38;5;28mself\u001b[39m, key):\n\u001b[1;32m   2252\u001b[0m \u001b[38;5;250m    \u001b[39m\u001b[38;5;124;03m\"\"\"Raise a helpful exception to explain a common code fix.\"\"\"\u001b[39;00m\n\u001b[0;32m-> 2253\u001b[0m     \u001b[38;5;28;01mraise\u001b[39;00m \u001b[38;5;167;01mAttributeError\u001b[39;00m(\n\u001b[1;32m   2254\u001b[0m         \u001b[38;5;124m\"\u001b[39m\u001b[38;5;124mResultSet object has no attribute \u001b[39m\u001b[38;5;124m'\u001b[39m\u001b[38;5;132;01m%s\u001b[39;00m\u001b[38;5;124m'\u001b[39m\u001b[38;5;124m. You\u001b[39m\u001b[38;5;124m'\u001b[39m\u001b[38;5;124mre probably treating a list of elements like a single element. Did you call find_all() when you meant to call find()?\u001b[39m\u001b[38;5;124m\"\u001b[39m \u001b[38;5;241m%\u001b[39m key\n\u001b[1;32m   2255\u001b[0m     )\n",
      "\u001b[0;31mAttributeError\u001b[0m: ResultSet object has no attribute 'find_all'. You're probably treating a list of elements like a single element. Did you call find_all() when you meant to call find()?"
     ]
    }
   ],
   "source": [
    "if header_div:\n",
    "    headings = header_div.find_all([\"h2\"])\n",
    "    \n",
    "    for heading in headings:\n",
    "        heading_text = heading.get_text()\n",
    "        print(heading_text)\n",
    "\n"
   ]
  },
  {
   "cell_type": "code",
   "execution_count": null,
   "id": "85cc2f85-b162-4fd7-9949-1c71ece4673a",
   "metadata": {},
   "outputs": [],
   "source": []
  },
  {
   "cell_type": "code",
   "execution_count": null,
   "id": "12a7325f-453e-453f-b560-8e7aaa8eeae7",
   "metadata": {},
   "outputs": [],
   "source": []
  }
 ],
 "metadata": {
  "kernelspec": {
   "display_name": "Python 3 (ipykernel)",
   "language": "python",
   "name": "python3"
  },
  "language_info": {
   "codemirror_mode": {
    "name": "ipython",
    "version": 3
   },
   "file_extension": ".py",
   "mimetype": "text/x-python",
   "name": "python",
   "nbconvert_exporter": "python",
   "pygments_lexer": "ipython3",
   "version": "3.10.12"
  }
 },
 "nbformat": 4,
 "nbformat_minor": 5
}
