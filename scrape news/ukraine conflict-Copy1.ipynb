{
 "cells": [
  {
   "cell_type": "code",
   "execution_count": null,
   "id": "b90b4203-47d7-4218-b084-2b8768d40f0e",
   "metadata": {},
   "outputs": [],
   "source": [
    "path  = \"https://www.itv.co.tz/search/node/urusi%20ukraine\""
   ]
  },
  {
   "cell_type": "code",
   "execution_count": null,
   "id": "0b3e3e45-3c2b-490c-9e5d-582be739e4ce",
   "metadata": {},
   "outputs": [],
   "source": [
    "from requests import get\n",
    "from bs4 import BeautifulSoup as soup\n",
    "import csv\n",
    "\n",
    "url = get(path)\n",
    "\n",
    "request = url.text"
   ]
  },
  {
   "cell_type": "code",
   "execution_count": null,
   "id": "b63e9d24-fea7-4214-aea4-7919c1f2785b",
   "metadata": {},
   "outputs": [],
   "source": [
    "soup_data = soup(request, 'html.parser' )"
   ]
  },
  {
   "cell_type": "code",
   "execution_count": null,
   "id": "acd34882-7bcd-4da5-9958-1f99ed6310b5",
   "metadata": {},
   "outputs": [],
   "source": [
    "news = soup_data.find_all(\"h3\", {\"title\"})"
   ]
  },
  {
   "cell_type": "code",
   "execution_count": null,
   "id": "df7dba7a-fb9e-4622-b093-cb66d2f0d4fe",
   "metadata": {},
   "outputs": [],
   "source": [
    "# titles = []"
   ]
  },
  {
   "cell_type": "code",
   "execution_count": null,
   "id": "1569dfdf-a1f0-4a09-b3de-2ef0676f3a83",
   "metadata": {},
   "outputs": [],
   "source": [
    "for taarifa in news:\n",
    "    heading = taarifa.text\n",
    "    link = taarifa.find(\"a\").get(\"href\")\n",
    "    # getting into the link of a particular news in iteration\n",
    "    body = get(link)\n",
    "    body_request = body.text\n",
    "    body_soup = soup(body_request, 'html.parser')\n",
    "\n",
    "    paragraphs = body_soup.find_all(\"p\")\n",
    "\n",
    "    text = []\n",
    "    for p in paragraphs:\n",
    "        text.append(p.text)\n",
    "        # print(text)\n",
    "        text_block = \"\"\" \"\"\".join(text_block for text_block in text if text_block != '\\nJump to navigation\\n')\n",
    "    print(text_block)\n",
    "    # titles.append((heading, link, text_block))"
   ]
  },
  {
   "cell_type": "code",
   "execution_count": null,
   "id": "02486256-0208-4e10-b409-4a9bcf083f4a",
   "metadata": {},
   "outputs": [],
   "source": [
    "titles"
   ]
  },
  {
   "cell_type": "code",
   "execution_count": null,
   "id": "b89e6198-977d-4d29-b9ea-9dd7e32c2b3d",
   "metadata": {},
   "outputs": [],
   "source": [
    "with open('data.csv', 'w') as file:\n",
    "    # create a writer object\n",
    "    writer = csv.writer(file)\n",
    "\n",
    "    writer.writerow([\"title\",\"link\", \"content\"])\n",
    "    # write the data to the file\n",
    "    for row in titles:\n",
    "        writer.writerow(row)"
   ]
  },
  {
   "cell_type": "code",
   "execution_count": null,
   "id": "e9da6cc0-7557-4755-a3f2-d4d119456386",
   "metadata": {},
   "outputs": [],
   "source": []
  },
  {
   "cell_type": "code",
   "execution_count": null,
   "id": "51c50d88-6f55-46e8-9673-2b166f830493",
   "metadata": {},
   "outputs": [],
   "source": [
    "path  = \"https://www.eatv.tv/search/node/urusi%20ukraine?page=2\""
   ]
  },
  {
   "cell_type": "code",
   "execution_count": 1,
   "id": "e861cbf4-b748-4f47-8536-af88350e9c8b",
   "metadata": {},
   "outputs": [],
   "source": [
    "from requests import get\n",
    "from bs4 import BeautifulSoup as soup\n",
    "import csv"
   ]
  },
  {
   "cell_type": "code",
   "execution_count": 2,
   "id": "09d53b3e-fd71-44c3-b0f6-5defd4fc991c",
   "metadata": {},
   "outputs": [],
   "source": [
    "titles = []"
   ]
  },
  {
   "cell_type": "code",
   "execution_count": 3,
   "id": "2f3c4d02-13e2-44cd-8010-89a384346813",
   "metadata": {},
   "outputs": [
    {
     "name": "stdout",
     "output_type": "stream",
     "text": [
      "0\n",
      "1\n",
      "2\n",
      "3\n"
     ]
    }
   ],
   "source": [
    "for i in range(0,4):\n",
    "    path  = f\"https://www.itv.co.tz/search/node/urusi%20ukraine?page={i}\"\n",
    "    url = get(path)\n",
    "    request = url.text\n",
    "    soup_data = soup(request, 'html.parser' )\n",
    "    news = soup_data.find_all(\"h3\", {\"title\"})\n",
    "    print(i)\n",
    "    for taarifa in news:\n",
    "        heading = taarifa.text\n",
    "        link = taarifa.find(\"a\").get(\"href\")\n",
    "        \n",
    "        # getting into the link of a particular news in iteration\n",
    "        body = get(link)\n",
    "        body_request = body.text\n",
    "        body_soup = soup(body_request, 'html.parser')\n",
    "    \n",
    "        paragraphs = body_soup.find_all(\"p\")\n",
    "    \n",
    "        text = []\n",
    "        for p in paragraphs:\n",
    "            text.append(p.text)\n",
    "            text_block = \"\"\" \"\"\".join(text_block for text_block in text if text_block != '\\nJump to navigation\\n')\n",
    "        \n",
    "        titles.append((heading, link, text_block))"
   ]
  },
  {
   "cell_type": "code",
   "execution_count": 4,
   "id": "653fd057-55c6-4dd7-99d0-3691e09f991e",
   "metadata": {},
   "outputs": [],
   "source": [
    "with open('itv.csv', 'w') as file:\n",
    "    # create a writer object\n",
    "    writer = csv.writer(file)\n",
    "\n",
    "    writer.writerow([\"title\",\"link\", \"content\"])\n",
    "    # write the data to the file\n",
    "    for row in titles:\n",
    "        writer.writerow(row)"
   ]
  },
  {
   "cell_type": "code",
   "execution_count": null,
   "id": "c6d08ea3-e3f7-4292-be5a-8d60ae4eaae8",
   "metadata": {},
   "outputs": [],
   "source": []
  },
  {
   "cell_type": "code",
   "execution_count": null,
   "id": "2d08f403-217f-4566-90c6-468beb3195a1",
   "metadata": {},
   "outputs": [],
   "source": []
  },
  {
   "cell_type": "code",
   "execution_count": null,
   "id": "10a9421f-5172-4fdd-a0d6-60bf2db93b6d",
   "metadata": {},
   "outputs": [],
   "source": []
  },
  {
   "cell_type": "code",
   "execution_count": null,
   "id": "3d801497-d20e-4903-8ce5-4728514dc970",
   "metadata": {},
   "outputs": [],
   "source": []
  },
  {
   "cell_type": "code",
   "execution_count": null,
   "id": "85fcc9a1-8d4e-43b0-9f2d-1adde508601b",
   "metadata": {},
   "outputs": [],
   "source": []
  }
 ],
 "metadata": {
  "kernelspec": {
   "display_name": "Python 3 (ipykernel)",
   "language": "python",
   "name": "python3"
  },
  "language_info": {
   "codemirror_mode": {
    "name": "ipython",
    "version": 3
   },
   "file_extension": ".py",
   "mimetype": "text/x-python",
   "name": "python",
   "nbconvert_exporter": "python",
   "pygments_lexer": "ipython3",
   "version": "3.10.12"
  }
 },
 "nbformat": 4,
 "nbformat_minor": 5
}
