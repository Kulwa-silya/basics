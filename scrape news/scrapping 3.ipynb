{
 "cells": [
  {
   "cell_type": "code",
   "execution_count": 1,
   "id": "d20bc59c-1323-4d05-8a41-38285a770835",
   "metadata": {},
   "outputs": [],
   "source": [
    "path = \"https://www.bbc.com/news/world-60525350\""
   ]
  },
  {
   "cell_type": "code",
   "execution_count": 2,
   "id": "8d75f774-622c-47bf-8d46-5fffa0431908",
   "metadata": {},
   "outputs": [],
   "source": [
    "from requests import get\n",
    "from bs4 import BeautifulSoup as soup\n",
    "import csv\n",
    "\n",
    "url = get(path)\n",
    "\n",
    "request = url.text"
   ]
  },
  {
   "cell_type": "code",
   "execution_count": 3,
   "id": "5891c59d-0179-43c9-9d13-088becb553fd",
   "metadata": {},
   "outputs": [],
   "source": [
    "soup_data = soup(request, 'html.parser' )"
   ]
  },
  {
   "cell_type": "code",
   "execution_count": 23,
   "id": "ade1494f-8884-42e0-8059-f88d06069ced",
   "metadata": {},
   "outputs": [],
   "source": [
    "latest = soup_data.find(\"div\", {\"class\":\"gel-layout__item gel-3/5@l\"})"
   ]
  },
  {
   "cell_type": "code",
   "execution_count": 37,
   "id": "b2cb0899-6786-41a2-bf88-fb1e32025546",
   "metadata": {},
   "outputs": [],
   "source": [
    "ol = latest.find(\"ol\")"
   ]
  },
  {
   "cell_type": "code",
   "execution_count": 43,
   "id": "ba8702e1-3b02-4bb4-9266-ef1190b097ef",
   "metadata": {},
   "outputs": [],
   "source": [
    "li = ol.find_all(\"li\")"
   ]
  },
  {
   "cell_type": "code",
   "execution_count": 230,
   "id": "25e2dd20-eaf7-471f-8a34-3db10360de29",
   "metadata": {},
   "outputs": [],
   "source": [
    "titles = []"
   ]
  },
  {
   "cell_type": "code",
   "execution_count": 231,
   "id": "ad91a30a-0d4e-467a-bc3a-0c5f2711a266",
   "metadata": {},
   "outputs": [],
   "source": [
    "for lii in li:\n",
    "    header = lii.find(\"header\")\n",
    "    if header:\n",
    "        # fetch title\n",
    "        title = header.text\n",
    "\n",
    "        # fetch link\n",
    "        link = header.find(\"a\").get(\"href\")\n",
    "        link = f\"https://www.bbc.com{link}\"\n",
    "\n",
    "        # for time that has no specified date, set it to today\n",
    "        time = lii.find(\"span\", {\"class\":\"qa-post-auto-meta\"}).text\n",
    "        if len(time) <= 5:\n",
    "            time = f'{time} {datetime.datetime.now().strftime(\"%d %b\")}'\n",
    "        \n",
    "        # getting into the link of a particular news in iteration\n",
    "        news = get(link)\n",
    "        news_request = news.text\n",
    "        news_soup = soup(news_request, 'html.parser')\n",
    "\n",
    "        # fetch autho\n",
    "        author = news_soup.find(\"div\", {\"class\":\"ssrcss-68pt20-Text-TextContributorName e8mq1e96\"})\n",
    "\n",
    "        # fetch content\n",
    "        text_blocks = news_soup.find_all(\"div\", {\"data-component\":\"text-block\"})\n",
    "        text = []\n",
    "        if text_blocks:\n",
    "            for text_block in text_blocks:\n",
    "                text.append(text_block.text)\n",
    "            text_block = \" \".join(text_block for text_block in text)\n",
    "        else:\n",
    "            text_block = \"\"\n",
    "        \n",
    "        if author:\n",
    "            titles.append((time,title,text_block,author.text[3:],link))\n",
    "        else:\n",
    "            titles.append((time,title,text_block,None,link))"
   ]
  },
  {
   "cell_type": "code",
   "execution_count": 232,
   "id": "fe4b0ef9-49e1-41d4-8b68-63b1905796ed",
   "metadata": {},
   "outputs": [],
   "source": [
    "with open('data.csv', 'w') as file:\n",
    "    # create a writer object\n",
    "    writer = csv.writer(file)\n",
    "\n",
    "    writer.writerow([\"time\",\"title\",\"content\",\"author\",\"link\"])\n",
    "    # write the data to the file\n",
    "    for row in titles:\n",
    "        writer.writerow(row)"
   ]
  },
  {
   "cell_type": "code",
   "execution_count": 193,
   "id": "9da3e659-5ee6-4221-970c-9a42675bf2e6",
   "metadata": {},
   "outputs": [],
   "source": []
  },
  {
   "cell_type": "code",
   "execution_count": 205,
   "id": "542deea5-d9d7-47e4-8bc0-dd03cba2afc8",
   "metadata": {},
   "outputs": [
    {
     "data": {
      "text/plain": [
       "'23 Aug'"
      ]
     },
     "execution_count": 205,
     "metadata": {},
     "output_type": "execute_result"
    }
   ],
   "source": [
    "datetime.datetime.now().strftime(\"%d %b\")"
   ]
  },
  {
   "cell_type": "code",
   "execution_count": 211,
   "id": "ca60aae1-2aef-4805-8b5d-248f47e70370",
   "metadata": {},
   "outputs": [
    {
     "name": "stdout",
     "output_type": "stream",
     "text": [
      "2023-08-23 19:08:58.968364\n"
     ]
    }
   ],
   "source": [
    "print(datetime.datetime.now())"
   ]
  },
  {
   "cell_type": "code",
   "execution_count": null,
   "id": "7b014ec0-ab15-4902-afbc-6a63516bd6a1",
   "metadata": {},
   "outputs": [],
   "source": []
  },
  {
   "cell_type": "code",
   "execution_count": 1,
   "id": "99784dda-5e22-4697-8fc1-70cdc65b9639",
   "metadata": {},
   "outputs": [],
   "source": [
    "lt = [\"a\",\"b\",\"c\"]"
   ]
  },
  {
   "cell_type": "code",
   "execution_count": 2,
   "id": "07b1a55c-3a7e-4fc5-a2e4-2318cb62ac31",
   "metadata": {},
   "outputs": [
    {
     "data": {
      "text/plain": [
       "'a b c'"
      ]
     },
     "execution_count": 2,
     "metadata": {},
     "output_type": "execute_result"
    }
   ],
   "source": [
    "\" \".join(let for let in lt)"
   ]
  },
  {
   "cell_type": "code",
   "execution_count": null,
   "id": "2306fff3-3be8-469f-b606-cc581b757264",
   "metadata": {},
   "outputs": [],
   "source": [
    "for let in lt"
   ]
  },
  {
   "cell_type": "code",
   "execution_count": 215,
   "id": "955b59bf-1a5b-4558-87c6-8bceaebe5f9a",
   "metadata": {},
   "outputs": [],
   "source": [
    "# import requests\n",
    "# from bs4 import BeautifulSoup\n",
    "# import json\n",
    "\n",
    "# url = \"https://edition.cnn.com/europe/live-news/russia-ukraine-war-news-07-22-23/index.html\"\n",
    "# response = requests.get(url)\n",
    "\n",
    "# data = []\n",
    "\n",
    "# if response.status_code == 200:\n",
    "#     html_content = response.text\n",
    "#     bsobj = BeautifulSoup(html_content, \"html.parser\")\n",
    "\n",
    "#     for article in bsobj.findAll(\"article\"):\n",
    "#         headline = article.find(\"h2\").text\n",
    "\n",
    "#         # Extract reporter's name\n",
    "#         reporter_tag = article.find(\"p\", {\"class\": \"sc-gzOgki ixpUvU\"})\n",
    "#         reporter_name = reporter_tag.text.strip() if reporter_tag else \"Unknown reporter\"\n",
    "\n",
    "#         # Extract specific paragraphs for full description\n",
    "#         content_tags = article.find_all(\"p\", {\"class\": \"sc-gZMcBi render-stellar-contentstyles__Paragraph-sc-9v7nwy-2 dCwndB\"})\n",
    "#         full_description = \" \".join(tag.text.strip() for tag in content_tags) if content_tags else \"No content available.\"\n",
    "\n",
    "#         article_data = {\n",
    "#             \"headline\": headline,\n",
    "#             \"reporter\": reporter_name,\n",
    "#             \"full_description\": full_description\n",
    "#         }\n",
    "\n",
    "#         data.append(article_data)\n",
    "\n",
    "#     # Save the data to a JSON file \n",
    "#     file_path = r\".\"\n",
    "#     with open(file_path, \"w\", encoding=\"utf-8\") as json_file:\n",
    "#         json.dump(data, json_file, ensure_ascii=False, indent=4)\n",
    "\n",
    "#     print(\"Data has been saved to:\", file_path)\n",
    "# else:\n",
    "#     print(\"Failed to retrieve the content. Status code:\", response.status_code)"
   ]
  },
  {
   "cell_type": "code",
   "execution_count": null,
   "id": "752e98d3-a2d0-4521-9f08-d7a06f703a21",
   "metadata": {},
   "outputs": [],
   "source": []
  }
 ],
 "metadata": {
  "kernelspec": {
   "display_name": "Python 3 (ipykernel)",
   "language": "python",
   "name": "python3"
  },
  "language_info": {
   "codemirror_mode": {
    "name": "ipython",
    "version": 3
   },
   "file_extension": ".py",
   "mimetype": "text/x-python",
   "name": "python",
   "nbconvert_exporter": "python",
   "pygments_lexer": "ipython3",
   "version": "3.10.12"
  }
 },
 "nbformat": 4,
 "nbformat_minor": 5
}
