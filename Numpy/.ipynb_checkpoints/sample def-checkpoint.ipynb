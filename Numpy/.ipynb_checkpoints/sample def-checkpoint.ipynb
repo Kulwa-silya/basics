{
 "cells": [
  {
   "cell_type": "code",
   "execution_count": 1,
   "id": "3b9eebd7-6f3a-4522-b98c-5a1d98eb24ba",
   "metadata": {},
   "outputs": [],
   "source": [
    "def square(a):\n",
    "    \"\"\" hii function inasquare number yoyote utakayo ipa\n",
    "    example usage:\n",
    "    num = square(2)\n",
    "    print(num)\n",
    "    4\n",
    "    \"\"\"\n",
    "    return a*a"
   ]
  },
  {
   "cell_type": "code",
   "execution_count": null,
   "id": "fa7f6ce8-319a-4c38-8b08-8759a56140d2",
   "metadata": {},
   "outputs": [],
   "source": [
    "square()"
   ]
  }
 ],
 "metadata": {
  "kernelspec": {
   "display_name": "Python 3 (ipykernel)",
   "language": "python",
   "name": "python3"
  },
  "language_info": {
   "codemirror_mode": {
    "name": "ipython",
    "version": 3
   },
   "file_extension": ".py",
   "mimetype": "text/x-python",
   "name": "python",
   "nbconvert_exporter": "python",
   "pygments_lexer": "ipython3",
   "version": "3.10.12"
  }
 },
 "nbformat": 4,
 "nbformat_minor": 5
}
