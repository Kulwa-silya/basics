{
 "cells": [
  {
   "cell_type": "code",
   "execution_count": 9,
   "id": "3b9eebd7-6f3a-4522-b98c-5a1d98eb24ba",
   "metadata": {},
   "outputs": [],
   "source": [
    "def square(a = 2):\n",
    "    \"\"\" hii function inasquare number yoyote utakayo ipa\n",
    "    example usage:\n",
    "    num = square(2)\n",
    "    print(num)\n",
    "    4\n",
    "    \"\"\"\n",
    "    return a*a"
   ]
  },
  {
   "cell_type": "code",
   "execution_count": 10,
   "id": "fa7f6ce8-319a-4c38-8b08-8759a56140d2",
   "metadata": {},
   "outputs": [
    {
     "data": {
      "text/plain": [
       "4"
      ]
     },
     "execution_count": 10,
     "metadata": {},
     "output_type": "execute_result"
    }
   ],
   "source": [
    "square()"
   ]
  },
  {
   "cell_type": "code",
   "execution_count": 8,
   "id": "2b8b8b7e-f147-4c1d-81d8-71ae6607db4c",
   "metadata": {},
   "outputs": [
    {
     "data": {
      "text/plain": [
       "range(0, 10, 2)"
      ]
     },
     "execution_count": 8,
     "metadata": {},
     "output_type": "execute_result"
    }
   ],
   "source": [
    "range(0,10,2)"
   ]
  },
  {
   "cell_type": "code",
   "execution_count": 18,
   "id": "5222284a-5fd7-4d70-96ca-88b89deb82d5",
   "metadata": {},
   "outputs": [],
   "source": [
    "num = [[1,2,3],[4,5,6]]"
   ]
  },
  {
   "cell_type": "code",
   "execution_count": 20,
   "id": "39521d16-f8f6-4b90-81e8-6376bd80f168",
   "metadata": {},
   "outputs": [
    {
     "data": {
      "text/plain": [
       "[[1, 2, 3], [4, 5, 6]]"
      ]
     },
     "execution_count": 20,
     "metadata": {},
     "output_type": "execute_result"
    }
   ],
   "source": [
    "num"
   ]
  },
  {
   "cell_type": "code",
   "execution_count": 23,
   "id": "e37f1c6a-fd16-493e-88d6-46142b30d116",
   "metadata": {},
   "outputs": [
    {
     "data": {
      "text/plain": [
       "[4, 5, 6]"
      ]
     },
     "execution_count": 23,
     "metadata": {},
     "output_type": "execute_result"
    }
   ],
   "source": [
    "num[:][1]"
   ]
  },
  {
   "cell_type": "code",
   "execution_count": null,
   "id": "ecf2ca66-f99e-41f0-91c9-47aa02454154",
   "metadata": {},
   "outputs": [],
   "source": []
  }
 ],
 "metadata": {
  "kernelspec": {
   "display_name": "Python 3 (ipykernel)",
   "language": "python",
   "name": "python3"
  },
  "language_info": {
   "codemirror_mode": {
    "name": "ipython",
    "version": 3
   },
   "file_extension": ".py",
   "mimetype": "text/x-python",
   "name": "python",
   "nbconvert_exporter": "python",
   "pygments_lexer": "ipython3",
   "version": "3.10.12"
  }
 },
 "nbformat": 4,
 "nbformat_minor": 5
}
