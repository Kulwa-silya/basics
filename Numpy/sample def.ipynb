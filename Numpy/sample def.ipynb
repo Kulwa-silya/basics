{
 "cells": [
  {
   "cell_type": "code",
   "execution_count": 9,
   "id": "3b9eebd7-6f3a-4522-b98c-5a1d98eb24ba",
   "metadata": {},
   "outputs": [],
   "source": [
    "def square(a = 2):\n",
    "    \"\"\" hii function inasquare number yoyote utakayo ipa\n",
    "    example usage:\n",
    "    num = square(2)\n",
    "    print(num)\n",
    "    4\n",
    "    \"\"\"\n",
    "    return a*a"
   ]
  },
  {
   "cell_type": "code",
   "execution_count": 10,
   "id": "fa7f6ce8-319a-4c38-8b08-8759a56140d2",
   "metadata": {},
   "outputs": [
    {
     "data": {
      "text/plain": [
       "4"
      ]
     },
     "execution_count": 10,
     "metadata": {},
     "output_type": "execute_result"
    }
   ],
   "source": [
    "square()"
   ]
  },
  {
   "cell_type": "code",
   "execution_count": 8,
   "id": "2b8b8b7e-f147-4c1d-81d8-71ae6607db4c",
   "metadata": {},
   "outputs": [
    {
     "data": {
      "text/plain": [
       "range(0, 10, 2)"
      ]
     },
     "execution_count": 8,
     "metadata": {},
     "output_type": "execute_result"
    }
   ],
   "source": [
    "range(0,10,2)"
   ]
  },
  {
   "cell_type": "code",
   "execution_count": 18,
   "id": "5222284a-5fd7-4d70-96ca-88b89deb82d5",
   "metadata": {},
   "outputs": [],
   "source": [
    "num = [[1,2,3],[4,5,6]]"
   ]
  },
  {
   "cell_type": "code",
   "execution_count": 20,
   "id": "39521d16-f8f6-4b90-81e8-6376bd80f168",
   "metadata": {},
   "outputs": [
    {
     "data": {
      "text/plain": [
       "[[1, 2, 3], [4, 5, 6]]"
      ]
     },
     "execution_count": 20,
     "metadata": {},
     "output_type": "execute_result"
    }
   ],
   "source": [
    "num"
   ]
  },
  {
   "cell_type": "code",
   "execution_count": 23,
   "id": "e37f1c6a-fd16-493e-88d6-46142b30d116",
   "metadata": {},
   "outputs": [
    {
     "data": {
      "text/plain": [
       "[4, 5, 6]"
      ]
     },
     "execution_count": 23,
     "metadata": {},
     "output_type": "execute_result"
    }
   ],
   "source": [
    "num[:][1]"
   ]
  },
  {
   "cell_type": "code",
   "execution_count": null,
   "id": "ecf2ca66-f99e-41f0-91c9-47aa02454154",
   "metadata": {},
   "outputs": [],
   "source": []
  },
  {
   "cell_type": "code",
   "execution_count": null,
   "id": "34d8277e-b142-42ba-bc3b-11fb6fe28b5b",
   "metadata": {},
   "outputs": [],
   "source": []
  },
  {
   "cell_type": "code",
   "execution_count": null,
   "id": "ea06dee0-985f-4a76-987e-5f3b456aa04f",
   "metadata": {},
   "outputs": [],
   "source": []
  },
  {
   "cell_type": "code",
   "execution_count": 1,
   "id": "c43075b9-5ac8-43c1-b364-3583311f93eb",
   "metadata": {},
   "outputs": [
    {
     "data": {
      "text/plain": [
       "2"
      ]
     },
     "execution_count": 1,
     "metadata": {},
     "output_type": "execute_result"
    }
   ],
   "source": [
    "2"
   ]
  },
  {
   "cell_type": "code",
   "execution_count": 2,
   "id": "b877ac67-c2c2-4756-a07c-784271232896",
   "metadata": {},
   "outputs": [
    {
     "data": {
      "text/plain": [
       "[2, 3]"
      ]
     },
     "execution_count": 2,
     "metadata": {},
     "output_type": "execute_result"
    }
   ],
   "source": [
    "[2,3]"
   ]
  },
  {
   "cell_type": "code",
   "execution_count": 3,
   "id": "fab11bad-5e37-4132-9418-7e6d8713b9f5",
   "metadata": {},
   "outputs": [
    {
     "data": {
      "text/plain": [
       "[[2, 3], [3, 4]]"
      ]
     },
     "execution_count": 3,
     "metadata": {},
     "output_type": "execute_result"
    }
   ],
   "source": [
    "[[2,3],[3,4]]"
   ]
  },
  {
   "cell_type": "code",
   "execution_count": null,
   "id": "cd5a6f27-0e75-4cad-becf-5a14aadac369",
   "metadata": {},
   "outputs": [],
   "source": []
  },
  {
   "cell_type": "code",
   "execution_count": 4,
   "id": "c923ea14-309f-4a92-a169-17c1b5fd29d8",
   "metadata": {},
   "outputs": [],
   "source": [
    "A = 5\n",
    "b = A"
   ]
  },
  {
   "cell_type": "code",
   "execution_count": 5,
   "id": "2ee8bc71-0db8-43ae-8066-da625056ab6b",
   "metadata": {},
   "outputs": [],
   "source": [
    "import numpy as np"
   ]
  },
  {
   "cell_type": "code",
   "execution_count": 13,
   "id": "0afb75fa-c5cb-4b98-8464-26d3d1c084d6",
   "metadata": {},
   "outputs": [],
   "source": [
    "arr = np.arange(0,3)"
   ]
  },
  {
   "cell_type": "code",
   "execution_count": 14,
   "id": "279cbfdb-82b8-4508-9b46-d9e9e50d8182",
   "metadata": {},
   "outputs": [
    {
     "data": {
      "text/plain": [
       "array([0, 1, 2])"
      ]
     },
     "execution_count": 14,
     "metadata": {},
     "output_type": "execute_result"
    }
   ],
   "source": [
    "arr"
   ]
  },
  {
   "cell_type": "code",
   "execution_count": 15,
   "id": "c732edbb-af1b-4253-8d56-a1a4b328a24e",
   "metadata": {},
   "outputs": [],
   "source": [
    "arr2 = arr.copy()"
   ]
  },
  {
   "cell_type": "code",
   "execution_count": 16,
   "id": "1d8f8818-c51f-4e0e-bcab-cadc4d03b8b2",
   "metadata": {},
   "outputs": [
    {
     "data": {
      "text/plain": [
       "array([0, 1, 2])"
      ]
     },
     "execution_count": 16,
     "metadata": {},
     "output_type": "execute_result"
    }
   ],
   "source": [
    "arr2"
   ]
  },
  {
   "cell_type": "code",
   "execution_count": 17,
   "id": "eafecadc-7e12-4bf4-8a32-1a90ecd35af5",
   "metadata": {},
   "outputs": [],
   "source": [
    "arr2[0] = 9"
   ]
  },
  {
   "cell_type": "code",
   "execution_count": 18,
   "id": "4765abc5-1bc7-472a-b5b3-33639d0847d0",
   "metadata": {},
   "outputs": [
    {
     "data": {
      "text/plain": [
       "array([0, 1, 2])"
      ]
     },
     "execution_count": 18,
     "metadata": {},
     "output_type": "execute_result"
    }
   ],
   "source": [
    "arr"
   ]
  },
  {
   "cell_type": "code",
   "execution_count": 19,
   "id": "8ac1821d-0a59-4cdb-a36f-d6776f32f029",
   "metadata": {},
   "outputs": [
    {
     "data": {
      "text/plain": [
       "array([9, 1, 2])"
      ]
     },
     "execution_count": 19,
     "metadata": {},
     "output_type": "execute_result"
    }
   ],
   "source": [
    "arr2"
   ]
  },
  {
   "cell_type": "code",
   "execution_count": null,
   "id": "439ce2ed-e365-460b-b9e7-bbabd50cc6a2",
   "metadata": {},
   "outputs": [],
   "source": []
  }
 ],
 "metadata": {
  "kernelspec": {
   "display_name": "Python 3 (ipykernel)",
   "language": "python",
   "name": "python3"
  },
  "language_info": {
   "codemirror_mode": {
    "name": "ipython",
    "version": 3
   },
   "file_extension": ".py",
   "mimetype": "text/x-python",
   "name": "python",
   "nbconvert_exporter": "python",
   "pygments_lexer": "ipython3",
   "version": "3.10.12"
  }
 },
 "nbformat": 4,
 "nbformat_minor": 5
}
