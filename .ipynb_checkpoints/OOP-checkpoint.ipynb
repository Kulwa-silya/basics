{
 "cells": [
  {
   "cell_type": "code",
   "execution_count": 3,
   "id": "b475ea37-9de7-445f-aa7a-a489b1190e80",
   "metadata": {},
   "outputs": [],
   "source": [
    "name1 = \"juma\"\n",
    "legs1 = \"2\"\n",
    "def juma_walk(legs1):\n",
    "    if legs1 == 2:\n",
    "        print(\"bipedalism\")\n",
    "juma_walk(legs1)"
   ]
  },
  {
   "cell_type": "code",
   "execution_count": null,
   "id": "9ef7b125-a7ac-4742-96c8-f03e39011388",
   "metadata": {},
   "outputs": [],
   "source": [
    "name2 = \"asha\"\n",
    "legs2 = \"\"\n",
    "def juma_walk(leg2):\n",
    "    print(\"bipedalism\")\n",
    "juma_walk(legs1)"
   ]
  }
 ],
 "metadata": {
  "kernelspec": {
   "display_name": "Python 3 (ipykernel)",
   "language": "python",
   "name": "python3"
  },
  "language_info": {
   "codemirror_mode": {
    "name": "ipython",
    "version": 3
   },
   "file_extension": ".py",
   "mimetype": "text/x-python",
   "name": "python",
   "nbconvert_exporter": "python",
   "pygments_lexer": "ipython3",
   "version": "3.10.6"
  }
 },
 "nbformat": 4,
 "nbformat_minor": 5
}
