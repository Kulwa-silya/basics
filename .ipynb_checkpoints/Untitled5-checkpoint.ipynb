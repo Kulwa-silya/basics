{
 "cells": [
  {
   "cell_type": "code",
   "execution_count": null,
   "id": "2c10f6fe",
   "metadata": {},
   "outputs": [],
   "source": [
    "path = \"https://www.voanews.com/s?k=covid-19%20vaccination&tab=all&pi=1&r=any&pp=10\""
   ]
  },
  {
   "cell_type": "code",
   "execution_count": null,
   "id": "ffb17b99",
   "metadata": {},
   "outputs": [],
   "source": [
    "from requests import get\n",
    "from bs4 import BeautifulSoup as soup\n",
    "\n",
    "\n",
    "url = get(path)\n",
    "\n",
    "request = url.text"
   ]
  },
  {
   "cell_type": "code",
   "execution_count": null,
   "id": "ed13e756",
   "metadata": {},
   "outputs": [],
   "source": [
    "soup_data = soup(request, 'html.parser' )"
   ]
  },
  {
   "cell_type": "code",
   "execution_count": null,
   "id": "ad647694",
   "metadata": {},
   "outputs": [],
   "source": [
    "soup_data = soup(request, 'html.parser' )"
   ]
  },
  {
   "cell_type": "code",
   "execution_count": null,
   "id": "b85f842f",
   "metadata": {},
   "outputs": [],
   "source": [
    "news = soup_data.find(\"h4\", {\"media-block__title media-block__title--size-3\"})\n"
   ]
  },
  {
   "cell_type": "code",
   "execution_count": null,
   "id": "b23d0bfe",
   "metadata": {},
   "outputs": [],
   "source": [
    "titles = []"
   ]
  },
  {
   "cell_type": "code",
   "execution_count": null,
   "id": "e8e982c3",
   "metadata": {},
   "outputs": [],
   "source": [
    "li_elements = news.find_all(\"li\")"
   ]
  },
  {
   "cell_type": "code",
   "execution_count": null,
   "id": "8f9619c4",
   "metadata": {},
   "outputs": [],
   "source": [
    "print(\"li\")"
   ]
  },
  {
   "cell_type": "code",
   "execution_count": null,
   "id": "c47afeda",
   "metadata": {},
   "outputs": [],
   "source": [
    "for lii in li_elements:\n",
    "   title = lii.get_text(title)\n",
    "    titles.append(title)\n"
   ]
  },
  {
   "cell_type": "code",
   "execution_count": null,
   "id": "853e8a80",
   "metadata": {},
   "outputs": [],
   "source": [
    "for title in titles:\n",
    "    print(title)"
   ]
  },
  {
   "cell_type": "code",
   "execution_count": null,
   "id": "ba4f89a7",
   "metadata": {},
   "outputs": [],
   "source": []
  }
 ],
 "metadata": {
  "kernelspec": {
   "display_name": "Python 3 (ipykernel)",
   "language": "python",
   "name": "python3"
  },
  "language_info": {
   "codemirror_mode": {
    "name": "ipython",
    "version": 3
   },
   "file_extension": ".py",
   "mimetype": "text/x-python",
   "name": "python",
   "nbconvert_exporter": "python",
   "pygments_lexer": "ipython3",
   "version": "3.10.9"
  }
 },
 "nbformat": 4,
 "nbformat_minor": 5
}
